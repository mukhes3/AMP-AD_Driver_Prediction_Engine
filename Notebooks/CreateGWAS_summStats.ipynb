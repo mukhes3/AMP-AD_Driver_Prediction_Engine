{
 "cells": [
  {
   "cell_type": "code",
   "execution_count": 13,
   "metadata": {},
   "outputs": [],
   "source": [
    "import numpy as np \n",
    "import pandas as pd\n",
    "import mygene\n",
    "import matplotlib.pyplot as plt\n",
    "%matplotlib inline"
   ]
  },
  {
   "cell_type": "code",
   "execution_count": 14,
   "metadata": {},
   "outputs": [],
   "source": [
    "#Getting list of genes which have SNPs according to IGAP_stage1\n",
    "def SummaryGWAS(FileName,sep=' '):\n",
    "\n",
    "    cnt = 0 \n",
    "    GeneNames = []\n",
    "    MinPval = []\n",
    "    AvgLogPval = []\n",
    "    with open(FileName) as f:\n",
    "        for line in f:\n",
    "            if cnt <= 1:\n",
    "                cnt+=1 \n",
    "                continue\n",
    "\n",
    "            cnt += 1\n",
    "            temp = line.split(sep)\n",
    "\n",
    "            if len(temp)>9:\n",
    "                GeneNames += [temp[0]]\n",
    "                temp = map(float,temp[9:])\n",
    "                MinPval += [min(temp)]\n",
    "                AvgLogPval += [np.mean(np.log10(temp))]\n",
    "                \n",
    "    df = pd.DataFrame(data = {'Names':GeneNames,'Min':MinPval,'Mean':AvgLogPval})\n",
    "    return(df)\n"
   ]
  },
  {
   "cell_type": "code",
   "execution_count": 15,
   "metadata": {},
   "outputs": [
    {
     "data": {
      "text/html": [
       "<div>\n",
       "<style scoped>\n",
       "    .dataframe tbody tr th:only-of-type {\n",
       "        vertical-align: middle;\n",
       "    }\n",
       "\n",
       "    .dataframe tbody tr th {\n",
       "        vertical-align: top;\n",
       "    }\n",
       "\n",
       "    .dataframe thead th {\n",
       "        text-align: right;\n",
       "    }\n",
       "</style>\n",
       "<table border=\"1\" class=\"dataframe\">\n",
       "  <thead>\n",
       "    <tr style=\"text-align: right;\">\n",
       "      <th></th>\n",
       "      <th>Mean</th>\n",
       "      <th>Min</th>\n",
       "      <th>Names</th>\n",
       "    </tr>\n",
       "  </thead>\n",
       "  <tbody>\n",
       "    <tr>\n",
       "      <th>0</th>\n",
       "      <td>-0.131461</td>\n",
       "      <td>0.738821</td>\n",
       "      <td>NOC2L</td>\n",
       "    </tr>\n",
       "    <tr>\n",
       "      <th>1</th>\n",
       "      <td>-0.077758</td>\n",
       "      <td>0.699010</td>\n",
       "      <td>KLHL17</td>\n",
       "    </tr>\n",
       "    <tr>\n",
       "      <th>2</th>\n",
       "      <td>-0.121490</td>\n",
       "      <td>0.612247</td>\n",
       "      <td>PLEKHN1</td>\n",
       "    </tr>\n",
       "    <tr>\n",
       "      <th>3</th>\n",
       "      <td>-0.262182</td>\n",
       "      <td>0.357791</td>\n",
       "      <td>PERM1</td>\n",
       "    </tr>\n",
       "    <tr>\n",
       "      <th>4</th>\n",
       "      <td>-0.522686</td>\n",
       "      <td>0.142306</td>\n",
       "      <td>HES4</td>\n",
       "    </tr>\n",
       "  </tbody>\n",
       "</table>\n",
       "</div>"
      ],
      "text/plain": [
       "       Mean       Min    Names\n",
       "0 -0.131461  0.738821    NOC2L\n",
       "1 -0.077758  0.699010   KLHL17\n",
       "2 -0.121490  0.612247  PLEKHN1\n",
       "3 -0.262182  0.357791    PERM1\n",
       "4 -0.522686  0.142306     HES4"
      ]
     },
     "execution_count": 15,
     "metadata": {},
     "output_type": "execute_result"
    }
   ],
   "source": [
    "#FileName = '/Users/sumitmukherjee/Documents/AMP-AD_Network_Analysis/IGAP_files/IGAP_geneAnalysis.genes.raw'\n",
    "FileName = '/Users/sumitmukherjee/Documents/DriverPrediction/DataFiles/Jensen_geneAnalysis.genes.raw'\n",
    "#FileName = 'ADSP_outfile10k.txt'\n",
    "df = SummaryGWAS(FileName,sep=' ')\n",
    "df.head()\n"
   ]
  },
  {
   "cell_type": "code",
   "execution_count": 5,
   "metadata": {},
   "outputs": [],
   "source": []
  },
  {
   "cell_type": "code",
   "execution_count": null,
   "metadata": {},
   "outputs": [],
   "source": []
  },
  {
   "cell_type": "code",
   "execution_count": 49,
   "metadata": {},
   "outputs": [
    {
     "data": {
      "text/plain": [
       "(array([  12.,  347., 2234., 4685., 7865., 2531.,  402.,  142.,   48.,\n",
       "          23.]),\n",
       " array([-3.53390431, -3.18199365, -2.83008299, -2.47817232, -2.12626166,\n",
       "        -1.774351  , -1.42244034, -1.07052968, -0.71861902, -0.36670835,\n",
       "        -0.01479769]),\n",
       " <a list of 10 Patch objects>)"
      ]
     },
     "execution_count": 49,
     "metadata": {},
     "output_type": "execute_result"
    },
    {
     "data": {
      "image/png": "[encoded data removed]",
      "text/plain": [
       "<Figure size 432x288 with 1 Axes>"
      ]
     },
     "metadata": {},
     "output_type": "display_data"
    }
   ],
   "source": [
    "plt.hist(df['Mean'])"
   ]
  },
  {
   "cell_type": "code",
   "execution_count": 16,
   "metadata": {},
   "outputs": [
    {
     "data": {
      "text/plain": [
       "-0.12386765879160043"
      ]
     },
     "execution_count": 16,
     "metadata": {},
     "output_type": "execute_result"
    }
   ],
   "source": [
    "np.mean(df['Mean'])"
   ]
  },
  {
   "cell_type": "code",
   "execution_count": 43,
   "metadata": {},
   "outputs": [
    {
     "data": {
      "text/plain": [
       "True"
      ]
     },
     "execution_count": 43,
     "metadata": {},
     "output_type": "execute_result"
    }
   ],
   "source": [
    "3>None"
   ]
  },
  {
   "cell_type": "code",
   "execution_count": 6,
   "metadata": {},
   "outputs": [
    {
     "data": {
      "text/plain": [
       "3.96818e-06"
      ]
     },
     "execution_count": 6,
     "metadata": {},
     "output_type": "execute_result"
    }
   ],
   "source": [
    "min(df['Min'])"
   ]
  },
  {
   "cell_type": "code",
   "execution_count": 17,
   "metadata": {},
   "outputs": [],
   "source": [
    "#Getting list of genes which have SNPs according to IGAP_stage1\n",
    "def SummaryGWAS2(FileName,Pv,sep=' '):\n",
    "    \n",
    "    cnt = 0 \n",
    "    GeneNames = []\n",
    "    MinPval = []\n",
    "    Num = []\n",
    "    AvgLogPval = []\n",
    "    with open(FileName) as f:\n",
    "        for line in f:\n",
    "            if cnt <= 1:\n",
    "                cnt+=1 \n",
    "                continue\n",
    "\n",
    "            cnt += 1\n",
    "            line = line[:-1]\n",
    "            temp = line.split(sep)\n",
    "            \n",
    "            if len(temp)>2:\n",
    "                GeneNames += [temp[0]]\n",
    "                mykeys = temp[2:]\n",
    "                tmp = [Pv[x] for x in mykeys]\n",
    "                if temp[0] == 'CD74':\n",
    "                    print(tmp)\n",
    "\n",
    "                tmp2 = [max(2e-308,x) for x in tmp]\n",
    "                MinPval += [min(tmp2)]\n",
    "                Num +=[len(tmp2)]\n",
    "                AvgLogPval += [np.mean(np.log10(tmp2))]\n",
    "                \n",
    "    df = pd.DataFrame(data = {'Names':GeneNames,'Min':MinPval,'Mean':AvgLogPval, 'Num':Num})\n",
    "    return(df)\n"
   ]
  },
  {
   "cell_type": "code",
   "execution_count": 28,
   "metadata": {},
   "outputs": [],
   "source": [
    "#FileName = '/Users/sumitmukherjee/Documents/AMP-AD_Network_Analysis/IGAP_files/IGAP_geneAnalysis.genes.raw'\n",
    "FileName = '/Users/sumitmukherjee/Documents/DriverPrediction/DataFiles/testOutIGAP.genes.annot' #for IGAP\n",
    "#FileName = '/Users/sumitmukherjee/Documents/DriverPrediction/DataFiles/testOut10.genes.annot' #for jansen\n",
    "#FileName = 'ADSP_outfile10k.txt'\n",
    "Pv = pd.read_table('../DataFiles/IGAP_pval.txt')\n",
    "#Pv = pd.read_table('../DataFiles/Jensen_pval.txt')\n",
    "Pv2 = Pv.set_index('SNP').to_dict()"
   ]
  },
  {
   "cell_type": "code",
   "execution_count": 38,
   "metadata": {},
   "outputs": [],
   "source": []
  },
  {
   "cell_type": "code",
   "execution_count": 29,
   "metadata": {},
   "outputs": [
    {
     "name": "stdout",
     "output_type": "stream",
     "text": [
      "[0.7685, 0.8391, 0.7657, 0.7908, 0.8604, 0.8412, 0.2109, 0.442, 0.1942, 0.8322, 0.301, 0.8091, 0.7766, 0.8227, 0.8874, 0.8214, 0.3162, 0.9392, 0.7541, 0.7836, 0.93, 0.9723, 0.7537, 0.2268, 0.8412, 0.9154, 0.4508, 0.7322, 0.7968, 0.8129, 0.7674, 0.7498, 0.3678, 0.9298, 0.6483, 0.7303, 0.3738, 0.4652, 0.8719, 0.21100000000000002, 0.9984, 0.6076, 0.6065, 0.3517, 0.2453, 0.1701, 0.2, 0.22399999999999998, 0.3414, 0.8827, 0.3276, 0.8059999999999999, 0.1198, 0.8463, 0.4544, 0.4358, 0.433, 0.2137, 0.6038, 0.1372, 0.18899999999999997, 0.1234, 0.6012, 0.539, 0.1962, 0.8267, 0.6528, 0.6524, 0.6519, 0.1395, 0.6505, 0.6466]\n"
     ]
    },
    {
     "data": {
      "text/html": [
       "<div>\n",
       "<style scoped>\n",
       "    .dataframe tbody tr th:only-of-type {\n",
       "        vertical-align: middle;\n",
       "    }\n",
       "\n",
       "    .dataframe tbody tr th {\n",
       "        vertical-align: top;\n",
       "    }\n",
       "\n",
       "    .dataframe thead th {\n",
       "        text-align: right;\n",
       "    }\n",
       "</style>\n",
       "<table border=\"1\" class=\"dataframe\">\n",
       "  <thead>\n",
       "    <tr style=\"text-align: right;\">\n",
       "      <th></th>\n",
       "      <th>Mean</th>\n",
       "      <th>Min</th>\n",
       "      <th>Names</th>\n",
       "      <th>Num</th>\n",
       "    </tr>\n",
       "  </thead>\n",
       "  <tbody>\n",
       "    <tr>\n",
       "      <th>0</th>\n",
       "      <td>-0.380695</td>\n",
       "      <td>0.348300</td>\n",
       "      <td>SAMD11</td>\n",
       "      <td>6</td>\n",
       "    </tr>\n",
       "    <tr>\n",
       "      <th>1</th>\n",
       "      <td>-0.610730</td>\n",
       "      <td>0.133800</td>\n",
       "      <td>HES4</td>\n",
       "      <td>10</td>\n",
       "    </tr>\n",
       "    <tr>\n",
       "      <th>2</th>\n",
       "      <td>-0.492920</td>\n",
       "      <td>0.133800</td>\n",
       "      <td>ISG15</td>\n",
       "      <td>30</td>\n",
       "    </tr>\n",
       "    <tr>\n",
       "      <th>3</th>\n",
       "      <td>-0.648698</td>\n",
       "      <td>0.016870</td>\n",
       "      <td>AGRN</td>\n",
       "      <td>50</td>\n",
       "    </tr>\n",
       "    <tr>\n",
       "      <th>4</th>\n",
       "      <td>-0.911167</td>\n",
       "      <td>0.007672</td>\n",
       "      <td>RNF223</td>\n",
       "      <td>45</td>\n",
       "    </tr>\n",
       "  </tbody>\n",
       "</table>\n",
       "</div>"
      ],
      "text/plain": [
       "       Mean       Min   Names  Num\n",
       "0 -0.380695  0.348300  SAMD11    6\n",
       "1 -0.610730  0.133800    HES4   10\n",
       "2 -0.492920  0.133800   ISG15   30\n",
       "3 -0.648698  0.016870    AGRN   50\n",
       "4 -0.911167  0.007672  RNF223   45"
      ]
     },
     "execution_count": 29,
     "metadata": {},
     "output_type": "execute_result"
    }
   ],
   "source": [
    "df = SummaryGWAS2(FileName,Pv2['P'],sep='\\t')\n",
    "df.head()"
   ]
  },
  {
   "cell_type": "code",
   "execution_count": 31,
   "metadata": {},
   "outputs": [],
   "source": [
    "df.to_csv('IGAP_gene_summary2.csv')"
   ]
  },
  {
   "cell_type": "code",
   "execution_count": 8,
   "metadata": {},
   "outputs": [
    {
     "data": {
      "text/plain": [
       "2e-308"
      ]
     },
     "execution_count": 8,
     "metadata": {},
     "output_type": "execute_result"
    }
   ],
   "source": [
    "min(df['Min'])"
   ]
  },
  {
   "cell_type": "code",
   "execution_count": 18,
   "metadata": {},
   "outputs": [
    {
     "data": {
      "text/plain": [
       "(-10, 0)"
      ]
     },
     "execution_count": 18,
     "metadata": {},
     "output_type": "execute_result"
    },
    {
     "data": {
      "image/png": "[encoded data removed]",
      "text/plain": [
       "<Figure size 432x288 with 1 Axes>"
      ]
     },
     "metadata": {},
     "output_type": "display_data"
    }
   ],
   "source": [
    "plt.hist(df.Mean,200)\n",
    "plt.xlim([-10,0])"
   ]
  },
  {
   "cell_type": "code",
   "execution_count": 24,
   "metadata": {},
   "outputs": [
    {
     "name": "stdout",
     "output_type": "stream",
     "text": [
      "[1 2]\n",
      "[2 1]\n",
      "[3 1]\n"
     ]
    }
   ],
   "source": [
    "a = [np.array([1,2]),np.array([2,1]),np.array([3,1])]\n",
    "\n",
    "for b in a:\n",
    "    print(b)"
   ]
  },
  {
   "cell_type": "code",
   "execution_count": 25,
   "metadata": {},
   "outputs": [
    {
     "data": {
      "text/plain": [
       "array([6, 4])"
      ]
     },
     "execution_count": 25,
     "metadata": {},
     "output_type": "execute_result"
    }
   ],
   "source": [
    "sum(a)"
   ]
  },
  {
   "cell_type": "code",
   "execution_count": 6,
   "metadata": {},
   "outputs": [],
   "source": [
    "Y = np.array([0,1,1,0,0])\n",
    "bla = np.argwhere(Y==1)"
   ]
  },
  {
   "cell_type": "code",
   "execution_count": 12,
   "metadata": {},
   "outputs": [
    {
     "data": {
      "text/plain": [
       "2"
      ]
     },
     "execution_count": 12,
     "metadata": {},
     "output_type": "execute_result"
    }
   ],
   "source": [
    "len(bla)"
   ]
  },
  {
   "cell_type": "code",
   "execution_count": 21,
   "metadata": {},
   "outputs": [
    {
     "data": {
      "text/html": [
       "<div>\n",
       "<style scoped>\n",
       "    .dataframe tbody tr th:only-of-type {\n",
       "        vertical-align: middle;\n",
       "    }\n",
       "\n",
       "    .dataframe tbody tr th {\n",
       "        vertical-align: top;\n",
       "    }\n",
       "\n",
       "    .dataframe thead th {\n",
       "        text-align: right;\n",
       "    }\n",
       "</style>\n",
       "<table border=\"1\" class=\"dataframe\">\n",
       "  <thead>\n",
       "    <tr style=\"text-align: right;\">\n",
       "      <th></th>\n",
       "      <th>Mean</th>\n",
       "      <th>Min</th>\n",
       "      <th>Names</th>\n",
       "      <th>Num</th>\n",
       "    </tr>\n",
       "  </thead>\n",
       "  <tbody>\n",
       "    <tr>\n",
       "      <th>0</th>\n",
       "      <td>-0.416023</td>\n",
       "      <td>0.000484</td>\n",
       "      <td>SAMD11</td>\n",
       "      <td>308</td>\n",
       "    </tr>\n",
       "    <tr>\n",
       "      <th>1</th>\n",
       "      <td>-0.483331</td>\n",
       "      <td>0.000685</td>\n",
       "      <td>NOC2L</td>\n",
       "      <td>228</td>\n",
       "    </tr>\n",
       "    <tr>\n",
       "      <th>2</th>\n",
       "      <td>-0.520841</td>\n",
       "      <td>0.000049</td>\n",
       "      <td>KLHL17</td>\n",
       "      <td>180</td>\n",
       "    </tr>\n",
       "    <tr>\n",
       "      <th>3</th>\n",
       "      <td>-0.566113</td>\n",
       "      <td>0.000049</td>\n",
       "      <td>PLEKHN1</td>\n",
       "      <td>195</td>\n",
       "    </tr>\n",
       "    <tr>\n",
       "      <th>4</th>\n",
       "      <td>-0.521383</td>\n",
       "      <td>0.000049</td>\n",
       "      <td>PERM1</td>\n",
       "      <td>172</td>\n",
       "    </tr>\n",
       "  </tbody>\n",
       "</table>\n",
       "</div>"
      ],
      "text/plain": [
       "       Mean       Min    Names  Num\n",
       "0 -0.416023  0.000484   SAMD11  308\n",
       "1 -0.483331  0.000685    NOC2L  228\n",
       "2 -0.520841  0.000049   KLHL17  180\n",
       "3 -0.566113  0.000049  PLEKHN1  195\n",
       "4 -0.521383  0.000049    PERM1  172"
      ]
     },
     "execution_count": 21,
     "metadata": {},
     "output_type": "execute_result"
    }
   ],
   "source": [
    "df.head()"
   ]
  },
  {
   "cell_type": "code",
   "execution_count": 30,
   "metadata": {},
   "outputs": [
    {
     "data": {
      "text/plain": [
       "1"
      ]
     },
     "execution_count": 30,
     "metadata": {},
     "output_type": "execute_result"
    }
   ],
   "source": [
    "min(df.Num)"
   ]
  },
  {
   "cell_type": "code",
   "execution_count": null,
   "metadata": {},
   "outputs": [],
   "source": []
  }
 ],
 "metadata": {
  "kernelspec": {
   "display_name": "Python 2",
   "language": "python",
   "name": "python2"
  },
  "language_info": {
   "codemirror_mode": {
    "name": "ipython",
    "version": 2
   },
   "file_extension": ".py",
   "mimetype": "text/x-python",
   "name": "python",
   "nbconvert_exporter": "python",
   "pygments_lexer": "ipython2",
   "version": "2.7.14"
  }
 },
 "nbformat": 4,
 "nbformat_minor": 2
}
